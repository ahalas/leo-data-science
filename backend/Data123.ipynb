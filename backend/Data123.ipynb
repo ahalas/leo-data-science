{
 "cells": [
  {
   "cell_type": "code",
   "execution_count": 138,
   "metadata": {},
   "outputs": [
    {
     "name": "stdout",
     "output_type": "stream",
     "text": [
      "lowerAnnEarn    23275.0\n",
      "dtype: float64\n",
      "medianAnnEarn    29875.0\n",
      "dtype: float64\n",
      "upperAnnEarn    36037.5\n",
      "dtype: float64\n",
      "{'LowerQuartile': lowerAnnEarn    23275.0\n",
      "dtype: float64, 'Median': medianAnnEarn    29875.0\n",
      "dtype: float64, 'UpperQuartile': upperAnnEarn    36037.5\n",
      "dtype: float64}\n"
     ]
    },
    {
     "name": "stderr",
     "output_type": "stream",
     "text": [
      "/Users/adamhalas/anaconda3/lib/python3.7/site-packages/ipykernel_launcher.py:15: UserWarning: Boolean Series key will be reindexed to match DataFrame index.\n",
      "  from ipykernel import kernelapp as app\n"
     ]
    }
   ],
   "source": [
    "import pandas as pd\n",
    "from pandas import ExcelWriter\n",
    "from pandas import ExcelFile\n",
    "import numpy as np\n",
    "\n",
    "# importing data -> pull from website does not work\n",
    "data = pd.read_csv('/Users/adamhalas/Google Drive/Durhack/SFR18_2017_Institution_subject_data.csv', low_memory=False)\n",
    "df = pd.DataFrame(data, columns = ['providerName','subject','lowerAnnEarn','medianAnnEarn','upperAnnEarn'])\n",
    "\n",
    "#reducing dimensionality. \n",
    "\n",
    "#restricting to specific subject\n",
    "CompSci = df[df['subject'].str.contains('Computer')]\n",
    "#restricting to specific university\n",
    "CompSciUom = CompSci[df['providerName'].str.contains('University of Manchester')]\n",
    "\n",
    "\n",
    "#LOWER QUARTILE AVERAGE \n",
    "CompSciUomLow = CompSciUom['lowerAnnEarn']\n",
    "CompSciUomLow = pd.DataFrame(CompSciUomLow)\n",
    "CompSciUomLow = CompSciUomLow[CompSciUomLow.lowerAnnEarn != 'x'].astype(int)\n",
    "CompSciUomLowAvg = np.mean(CompSciUomLow)\n",
    "print(CompSciUomLowAvg)\n",
    "#earningsDictionary.append(\"LowerQuartile\" = CompSciUomLowAvg)\n",
    "\n",
    "\n",
    "#MEDIAN AVERAGE\n",
    "CompSciUomMed = CompSciUom['medianAnnEarn']\n",
    "CompSciUomMed = pd.DataFrame(CompSciUomMed)\n",
    "CompSciUomMed = CompSciUomMed[CompSciUomMed.medianAnnEarn != 'x'].astype(int)\n",
    "CompSciUomMedAvg = np.mean(CompSciUomMed)\n",
    "print(CompSciUomMedAvg)\n",
    "\n",
    "#UPPER QUARTILE\n",
    "CompSciUomUp = CompSciUom['upperAnnEarn']\n",
    "CompSciUomUp = pd.DataFrame(CompSciUomUp)\n",
    "CompSciUomUp = CompSciUomUp[CompSciUomUp.upperAnnEarn != 'x'].astype(int)\n",
    "CompSciUomUpAvg = np.mean(CompSciUomUp)\n",
    "print(CompSciUomUpAvg)\n",
    "\n",
    "#dictionary\n",
    "earningsDictionary = dict(LowerQuartile =CompSciUomLowAvg,Median=CompSciUomMedAvg,UpperQuartile=CompSciUomUpAvg)\n",
    "print(earningsDictionary)"
   ]
  },
  {
   "cell_type": "code",
   "execution_count": null,
   "metadata": {},
   "outputs": [],
   "source": []
  },
  {
   "cell_type": "code",
   "execution_count": null,
   "metadata": {},
   "outputs": [],
   "source": []
  },
  {
   "cell_type": "code",
   "execution_count": null,
   "metadata": {},
   "outputs": [],
   "source": []
  }
 ],
 "metadata": {
  "kernelspec": {
   "display_name": "Python 3",
   "language": "python",
   "name": "python3"
  },
  "language_info": {
   "codemirror_mode": {
    "name": "ipython",
    "version": 3
   },
   "file_extension": ".py",
   "mimetype": "text/x-python",
   "name": "python",
   "nbconvert_exporter": "python",
   "pygments_lexer": "ipython3",
   "version": "3.7.0"
  }
 },
 "nbformat": 4,
 "nbformat_minor": 2
}
